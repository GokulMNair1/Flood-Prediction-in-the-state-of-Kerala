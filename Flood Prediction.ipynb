{
 "cells": [
  {
   "cell_type": "code",
   "execution_count": 2,
   "id": "af0257ea",
   "metadata": {},
   "outputs": [],
   "source": [
    "import numpy as np \n",
    "import pandas as pd \n",
    "import pickle\n",
    "from sklearn.model_selection import train_test_split\n",
    "from sklearn.svm import SVC\n",
    "from sklearn.metrics import accuracy_score,recall_score,roc_auc_score,confusion_matrix"
   ]
  },
  {
   "cell_type": "code",
   "execution_count": 3,
   "id": "a631773a",
   "metadata": {},
   "outputs": [
    {
     "name": "stdout",
     "output_type": "stream",
     "text": [
      "    SUBDIVISION  YEAR   JAN   FEB   MAR    APR    MAY     JUN     JUL     AUG  \\\n",
      "0        KERALA  1901  28.7  44.7  51.6  160.0  174.7   824.6   743.0   357.5   \n",
      "1        KERALA  1902   6.7   2.6  57.3   83.9  134.5   390.9  1205.0   315.8   \n",
      "2        KERALA  1903   3.2  18.6   3.1   83.6  249.7   558.6  1022.5   420.2   \n",
      "3        KERALA  1904  23.7   3.0  32.2   71.5  235.7  1098.2   725.5   351.8   \n",
      "4        KERALA  1905   1.2  22.3   9.4  105.9  263.3   850.2   520.5   293.6   \n",
      "..          ...   ...   ...   ...   ...    ...    ...     ...     ...     ...   \n",
      "113      KERALA  2014   4.6  10.3  17.9   95.7  251.0   454.4   677.8   733.9   \n",
      "114      KERALA  2015   3.1   5.8  50.1  214.1  201.8   563.6   406.0   252.2   \n",
      "115      KERALA  2016   2.4   3.8  35.9  143.0  186.4   522.2   412.3   325.5   \n",
      "116     KERALA   2017   1.9   6.8   8.9   43.6  173.5   498.5   319.6   531.8   \n",
      "117      KERALA  2018  29.1  52.1  48.6  116.4  183.8   625.4  1048.5  1398.9   \n",
      "\n",
      "       SEP    OCT    NOV    DEC   ANNUAL RAINFALL FLOODS  \n",
      "0    197.7  266.9  350.8   48.4            3248.6    YES  \n",
      "1    491.6  358.4  158.3  121.5            3326.6    YES  \n",
      "2    341.8  354.1  157.0   59.0            3271.2    YES  \n",
      "3    222.7  328.1   33.9    3.3            3129.7    YES  \n",
      "4    217.2  383.5   74.4    0.2            2741.6     NO  \n",
      "..     ...    ...    ...    ...               ...    ...  \n",
      "113  298.8  355.5   99.5   47.2            3046.4    YES  \n",
      "114  292.9  308.1  223.6   79.4            2600.6     NO  \n",
      "115  173.2  225.9  125.4   23.6            2176.6     NO  \n",
      "116  209.5  192.4   92.5   38.1            2117.1     NO  \n",
      "117  423.6  356.1  125.4   65.1            4473.0    YES  \n",
      "\n",
      "[118 rows x 16 columns]\n"
     ]
    }
   ],
   "source": [
    "data = pd.read_csv('kerala.csv')\n",
    "print(data)"
   ]
  },
  {
   "cell_type": "code",
   "execution_count": 4,
   "id": "a13b720f",
   "metadata": {},
   "outputs": [
    {
     "name": "stdout",
     "output_type": "stream",
     "text": [
      "(118, 16)\n"
     ]
    }
   ],
   "source": [
    "print(data.shape)"
   ]
  },
  {
   "cell_type": "code",
   "execution_count": 5,
   "id": "e0150f22",
   "metadata": {},
   "outputs": [],
   "source": [
    "data['FLOODS'].replace(['YES','NO'],[1,0],inplace=True)"
   ]
  },
  {
   "cell_type": "code",
   "execution_count": 6,
   "id": "91d83678",
   "metadata": {},
   "outputs": [],
   "source": [
    "x=data.iloc[:,2:14]\n",
    "y=data.iloc[:,-1]"
   ]
  },
  {
   "cell_type": "code",
   "execution_count": 7,
   "id": "c208d7f5",
   "metadata": {},
   "outputs": [
    {
     "data": {
      "text/plain": [
       "array([1, 0, 1, 1, 0, 1, 1, 1, 0, 1, 1, 1, 0, 1, 1, 0, 0, 0, 0, 0, 1, 1,\n",
       "       0, 1, 1, 1, 1, 1, 0, 1], dtype=int64)"
      ]
     },
     "execution_count": 7,
     "metadata": {},
     "output_type": "execute_result"
    }
   ],
   "source": [
    "x_train,x_test,y_train,y_test=train_test_split(x,y)\n",
    "model=SVC()\n",
    "model.fit(x_train,y_train)\n",
    "y_predict=model.predict(x_test)\n",
    "y_predict"
   ]
  },
  {
   "cell_type": "code",
   "execution_count": 8,
   "id": "1ed99f56",
   "metadata": {},
   "outputs": [
    {
     "data": {
      "text/plain": [
       "90.0"
      ]
     },
     "execution_count": 8,
     "metadata": {},
     "output_type": "execute_result"
    }
   ],
   "source": [
    "accuracy_score(y_test,y_predict)*100"
   ]
  },
  {
   "cell_type": "code",
   "execution_count": 9,
   "id": "a2da5282",
   "metadata": {},
   "outputs": [
    {
     "data": {
      "text/plain": [
       "86.36363636363636"
      ]
     },
     "execution_count": 9,
     "metadata": {},
     "output_type": "execute_result"
    }
   ],
   "source": [
    "recall_score(y_test,y_predict)*100"
   ]
  },
  {
   "cell_type": "code",
   "execution_count": 10,
   "id": "a45a9f43",
   "metadata": {},
   "outputs": [
    {
     "data": {
      "text/plain": [
       "93.18181818181819"
      ]
     },
     "execution_count": 10,
     "metadata": {},
     "output_type": "execute_result"
    }
   ],
   "source": [
    "roc_auc_score(y_test,y_predict)*100"
   ]
  },
  {
   "cell_type": "code",
   "execution_count": 11,
   "id": "c854b109",
   "metadata": {},
   "outputs": [
    {
     "data": {
      "text/plain": [
       "array([[ 8,  0],\n",
       "       [ 3, 19]], dtype=int64)"
      ]
     },
     "execution_count": 11,
     "metadata": {},
     "output_type": "execute_result"
    }
   ],
   "source": [
    "confusion_matrix(y_test,y_predict)"
   ]
  },
  {
   "cell_type": "code",
   "execution_count": 12,
   "id": "6b5a3118",
   "metadata": {},
   "outputs": [],
   "source": [
    "with open(\"model.pkl\",\"wb\") as file:\n",
    "    pickle.dump(model,file)"
   ]
  },
  {
   "cell_type": "code",
   "execution_count": null,
   "id": "3e79fc38",
   "metadata": {},
   "outputs": [],
   "source": []
  }
 ],
 "metadata": {
  "kernelspec": {
   "display_name": "Python 3",
   "language": "python",
   "name": "python3"
  },
  "language_info": {
   "codemirror_mode": {
    "name": "ipython",
    "version": 3
   },
   "file_extension": ".py",
   "mimetype": "text/x-python",
   "name": "python",
   "nbconvert_exporter": "python",
   "pygments_lexer": "ipython3",
   "version": "3.8.8"
  }
 },
 "nbformat": 4,
 "nbformat_minor": 5
}
